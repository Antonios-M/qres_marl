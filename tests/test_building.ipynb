{
 "cells": [
  {
   "cell_type": "code",
   "execution_count": 6,
   "id": "f09ce357",
   "metadata": {},
   "outputs": [],
   "source": [
    "import quake_envs\n",
    "import matplotlib.pyplot as plt\n",
    "import seaborn as sns\n",
    "from quake_envs.simulations.building_funcs import Building, BuildingAction\n",
    "import numpy as np"
   ]
  },
  {
   "cell_type": "code",
   "execution_count": 27,
   "id": "22c18958",
   "metadata": {},
   "outputs": [],
   "source": [
    "building = Building(\n",
    "  id=\"test_building\",\n",
    "  damage_state_probs=np.array([0.0, 0.0, 0.0, 0.0, 1.0]),\n",
    "  occtype=\"COM2\",\n",
    "  str_type=\"S5L\",\n",
    "  num_stories=2,\n",
    "  sqft=1000,\n",
    "  is_essential=False,\n",
    "  verbose=False,\n",
    "  calc_debris=True,\n",
    "  stoch_ds=True,\n",
    "  stoch_rt=True,\n",
    "  stoch_cost=True,\n",
    "  stoch_inc_loss=True,\n",
    "  stoch_loss_of_function=True,\n",
    "  stoch_relocation_cost=True\n",
    ")"
   ]
  },
  {
   "cell_type": "code",
   "execution_count": 21,
   "id": "afa81de1",
   "metadata": {},
   "outputs": [],
   "source": [
    "def repair_building(building:Building):\n",
    "    repair_times = []\n",
    "    incomes = []\n",
    "    relocation_cost = []\n",
    "    repair_cost = []\n",
    "    while building.has_debris:\n",
    "        repair_times.append(building.current_repair_time)\n",
    "        incomes.append(building.current_income)\n",
    "        relocation_cost.append(building.current_relocation_cost)\n",
    "        repair_cost.append(building.current_structural_repair_cost)\n",
    "        building.step(BuildingAction.CLEAR_DEBRIS)\n",
    "    while building.current_repair_time > 0:\n",
    "        repair_times.append(building.current_repair_time)\n",
    "        incomes.append(building.current_income)\n",
    "        relocation_cost.append(building.current_relocation_cost)\n",
    "        repair_cost.append(building.current_structural_repair_cost)\n",
    "        building.step(BuildingAction.REPAIR)\n",
    "    return repair_times, incomes, relocation_cost, repair_cost\n"
   ]
  },
  {
   "cell_type": "code",
   "execution_count": 24,
   "id": "b7321d31",
   "metadata": {},
   "outputs": [],
   "source": [
    "def plot_building(building: Building):\n",
    "    repair_times, incomes, relocation_cost, repair_cost = repair_building(building)\n",
    "    print(repair_times)\n",
    "    print(incomes)\n",
    "    print(relocation_cost)\n",
    "    print(repair_cost)\n",
    "    fig, ax = plt.subplots(figsize=(10, 6))\n",
    "    ax.plot(repair_times, label='Repair Time')\n",
    "    # ax.plot(incomes, label='Income')\n",
    "    # ax.plot(relocation_cost, label='Relocation Cost')\n",
    "    # ax.plot(repair_cost, label='Repair Cost')\n",
    "    ax.set_xlabel('Time')\n",
    "    ax.set_ylabel('Value')\n",
    "    ax.legend()\n",
    "    plt.show()"
   ]
  },
  {
   "cell_type": "code",
   "execution_count": 26,
   "id": "5607800f",
   "metadata": {},
   "outputs": [
    {
     "name": "stdout",
     "output_type": "stream",
     "text": [
      "[]\n",
      "[]\n",
      "[]\n",
      "[]\n"
     ]
    },
    {
     "data": {
      "image/png": "[encoded data removed]",
      "text/plain": [
       "<Figure size 1000x600 with 1 Axes>"
      ]
     },
     "metadata": {},
     "output_type": "display_data"
    }
   ],
   "source": [
    "plot_building(building)"
   ]
  }
 ],
 "metadata": {
  "kernelspec": {
   "display_name": "Python 3",
   "language": "python",
   "name": "python3"
  },
  "language_info": {
   "codemirror_mode": {
    "name": "ipython",
    "version": 3
   },
   "file_extension": ".py",
   "mimetype": "text/x-python",
   "name": "python",
   "nbconvert_exporter": "python",
   "pygments_lexer": "ipython3",
   "version": "3.9.20"
  }
 },
 "nbformat": 4,
 "nbformat_minor": 5
}
