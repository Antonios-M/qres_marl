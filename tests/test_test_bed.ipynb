{
 "cells": [
  {
   "cell_type": "code",
   "execution_count": 1,
   "id": "418b7f51",
   "metadata": {},
   "outputs": [],
   "source": [
    "import quake_envs"
   ]
  },
  {
   "cell_type": "code",
   "execution_count": null,
   "id": "72d127ce",
   "metadata": {},
   "outputs": [],
   "source": [
    "## fix bridge position\n",
    "## test repair times are getting sampled properly"
   ]
  }
 ],
 "metadata": {
  "kernelspec": {
   "display_name": "Python 3",
   "language": "python",
   "name": "python3"
  },
  "language_info": {
   "codemirror_mode": {
    "name": "ipython",
    "version": 3
   },
   "file_extension": ".py",
   "mimetype": "text/x-python",
   "name": "python",
   "nbconvert_exporter": "python",
   "pygments_lexer": "ipython3",
   "version": "3.9.20"
  }
 },
 "nbformat": 4,
 "nbformat_minor": 5
}
