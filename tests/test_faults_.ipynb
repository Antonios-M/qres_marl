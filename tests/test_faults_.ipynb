{
 "cells": [
  {
   "cell_type": "code",
   "execution_count": 2,
   "id": "9fff03a7",
   "metadata": {},
   "outputs": [],
   "source": [
    "import numpy as np\n",
    "import pandas as pd\n",
    "import geopandas as gpd\n",
    "import re\n",
    "from shapely.geometry import LineString\n",
    "from typing import List, Tuple\n",
    "from quake_envs.simulations.utils import *\n",
    "from openquake.hazardlib.mfd import EvenlyDiscretizedMFD\n",
    "\n",
    "# fr\n",
    "# om openquake.hazardlib.source import\n",
    "#"
   ]
  },
  {
   "cell_type": "code",
   "execution_count": null,
   "id": "f68820c3",
   "metadata": {},
   "outputs": [],
   "source": [
    "from openquake.hazardlib.gsim.boore_2014 import BooreEtAl2014HighQ"
   ]
  },
  {
   "cell_type": "code",
   "execution_count": 3,
   "id": "ef0faf7c",
   "metadata": {},
   "outputs": [],
   "source": [
    "faults = gpd.read_file(PathUtils.faults)"
   ]
  },
  {
   "cell_type": "code",
   "execution_count": 4,
   "id": "a985f79f",
   "metadata": {},
   "outputs": [
    {
     "data": {
      "text/plain": [
       "5.05"
      ]
     },
     "execution_count": 4,
     "metadata": {},
     "output_type": "execute_result"
    }
   ],
   "source": [
    "def get_mag_bins(columns)-> Tuple[List[float], float]:\n",
    "    # Regex pattern to match columns like 'M5.05', 'M6.15', etc.\n",
    "    pattern = r'^M(\\d+\\.\\d+)$'\n",
    "\n",
    "    mags = []\n",
    "    matched_cols = []\n",
    "    for col in columns:\n",
    "        match = re.match(pattern, col)\n",
    "        if match:\n",
    "            mag = float(match.group(1))\n",
    "            mags.append(mag)\n",
    "            matched_cols.append(col)\n",
    "\n",
    "    if not mags:\n",
    "        return [], None\n",
    "\n",
    "    min_mag = min(mags)\n",
    "    return mags, min_mag\n",
    "\n",
    "matched_cols, min_mag = get_mag_bins(faults.columns)\n",
    "min_mag"
   ]
  },
  {
   "cell_type": "code",
   "execution_count": 8,
   "id": "fb0f4e6d",
   "metadata": {},
   "outputs": [
    {
     "data": {
      "text/plain": [
       "array([861, 667, 219, 197, 722, 845, 881, 668, 669, 842, 581, 158, 741,\n",
       "       192, 191, 200,  87, 169, 170, 541, 882,  94, 561, 165, 602, 601,\n",
       "       621, 603,  88, 724, 173, 176, 721, 670,  34, 172, 129, 214, 238,\n",
       "       124, 844,  81, 884, 883, 582, 184, 622, 626, 633, 776, 157, 163,\n",
       "       125, 894, 245,  45,  46, 246,  51, 230, 889, 888, 249, 255, 256,\n",
       "       671, 672,  96, 103, 296, 102, 402, 299, 196, 146,  90,  95,  20,\n",
       "       698, 893, 204, 634, 699, 159, 341,  48,  49, 700, 160, 701,  86,\n",
       "       131, 133, 132, 383, 134, 381, 717, 645, 136, 137, 151, 138, 139,\n",
       "       140, 142, 141, 623, 636, 635, 702,  37, 639, 638, 637, 167,  84,\n",
       "       703, 108, 228, 723, 704,  30, 208,  50, 677, 640,  97, 678,  65,\n",
       "       892,  91, 168, 679, 542, 544, 543,  92, 680, 641, 104, 207, 642,\n",
       "       890,  85, 705, 681, 144,  16,  17, 683, 780, 643,  74, 201, 166,\n",
       "       644,  22, 221, 220, 164,  21, 155,  13, 605, 250, 779,  78, 686,\n",
       "       707, 646,  11, 188, 187, 711, 713, 156, 122, 235,  83,  82, 199,\n",
       "       687, 130, 211, 116, 709, 777, 921,   9,  64, 891,  47, 841, 109,\n",
       "       244, 162, 186, 647, 193,  93,  89, 212, 215, 688,  58, 666, 843,\n",
       "       545, 240, 648, 152, 118, 161, 232, 649, 205, 650,  38, 689, 651,\n",
       "       123,  42, 690, 287, 300, 285, 295, 658, 286, 301, 294, 654, 653,\n",
       "        32, 655, 282, 283, 284, 657,  80, 178, 774, 177, 247, 248, 194,\n",
       "       660, 661, 293,  99, 292, 101, 901, 119, 289, 401,  28, 143, 107,\n",
       "        31, 692, 693, 691, 181, 183, 198, 775, 111, 185, 226, 110, 778,\n",
       "       227,  79,  77, 781, 662, 209, 885, 547, 114, 113, 210, 664, 115,\n",
       "       202, 694,  63, 189, 719, 720,  98, 708, 695,  15, 145, 174, 887,\n",
       "       886,  19, 117, 112, 696, 665, 321,  44, 253, 254, 236, 697, 206,\n",
       "       715, 222, 171, 239, 624, 625, 627, 628, 629, 630, 631, 632, 121,\n",
       "       135, 382, 229, 546, 224, 223,   2, 234, 216, 218, 203, 175, 217,\n",
       "       243, 241, 242, 233, 179, 710,  75, 180, 225, 231, 237,  53])"
      ]
     },
     "execution_count": 8,
     "metadata": {},
     "output_type": "execute_result"
    }
   ],
   "source": [
    "faults[\"ID\"].unique()"
   ]
  },
  {
   "cell_type": "code",
   "execution_count": 11,
   "id": "a24e0b4a",
   "metadata": {},
   "outputs": [
    {
     "name": "stdout",
     "output_type": "stream",
     "text": [
      "[5.05, 5.15, 5.25, 5.35, 5.45, 5.55, 5.65, 5.75, 5.85, 5.95, 6.05, 6.15, 6.25, 6.35, 6.45, 6.55, 6.65, 6.75, 6.85, 6.95, 7.05, 7.15, 7.25, 7.35, 7.45, 7.55, 7.65, 7.75, 7.85, 7.95, 8.05, 8.15, 8.25, 8.35, 8.45, 8.55, 8.65, 8.75, 8.85, 8.95, 9.05]\n"
     ]
    }
   ],
   "source": [
    "faults.columns# Regex pattern to match strings like 'M5.05', 'M7.15', etc.\n",
    "pattern = r'^M(\\d+\\.\\d+)$'\n",
    "\n",
    "magnitudes = [float(re.match(pattern, col).group(1)) for col in faults.columns if re.match(pattern, col)]\n",
    "\n",
    "print(magnitudes)"
   ]
  }
 ],
 "metadata": {
  "kernelspec": {
   "display_name": "Python 3",
   "language": "python",
   "name": "python3"
  },
  "language_info": {
   "codemirror_mode": {
    "name": "ipython",
    "version": 3
   },
   "file_extension": ".py",
   "mimetype": "text/x-python",
   "name": "python",
   "nbconvert_exporter": "python",
   "pygments_lexer": "ipython3",
   "version": "3.9.20"
  }
 },
 "nbformat": 4,
 "nbformat_minor": 5
}
