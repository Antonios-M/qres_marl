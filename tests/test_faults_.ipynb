{
 "cells": [
  {
   "cell_type": "code",
   "execution_count": 2,
   "id": "9fff03a7",
   "metadata": {},
   "outputs": [],
   "source": [
    "import numpy as np\n",
    "import pandas as pd\n",
    "import geopandas as gpd\n",
    "import re\n",
    "from shapely.geometry import LineString\n",
    "from typing import List, Tuple\n",
    "from quake_envs.simulations.utils import *\n",
    "from openquake.hazardlib.mfd import EvenlyDiscretizedMFD\n",
    "\n",
    "# fr\n",
    "# om openquake.hazardlib.source import\n",
    "#"
   ]
  },
  {
   "cell_type": "code",
   "execution_count": null,
   "id": "f68820c3",
   "metadata": {},
   "outputs": [],
   "source": [
    "from openquake.hazardlib.gsim.boore_2014 import BooreEtAl2014HighQ"
   ]
  },
  {
   "cell_type": "code",
   "execution_count": 3,
   "id": "ef0faf7c",
   "metadata": {},
   "outputs": [],
   "source": [
    "faults = gpd.read_file(PathUtils.faults)"
   ]
  },
  {
   "cell_type": "code",
   "execution_count": 4,
   "id": "a985f79f",
   "metadata": {},
   "outputs": [
    {
     "data": {
      "text/plain": [
       "5.05"
      ]
     },
     "execution_count": 4,
     "metadata": {},
     "output_type": "execute_result"
    }
   ],
   "source": [
    "def get_mag_bins(columns)-> Tuple[List[float], float]:\n",
    "    # Regex pattern to match columns like 'M5.05', 'M6.15', etc.\n",
    "    pattern = r'^M(\\d+\\.\\d+)$'\n",
    "\n",
    "    mags = []\n",
    "    matched_cols = []\n",
    "    for col in columns:\n",
    "        match = re.match(pattern, col)\n",
    "        if match:\n",
    "            mag = float(match.group(1))\n",
    "            mags.append(mag)\n",
    "            matched_cols.append(col)\n",
    "\n",
    "    if not mags:\n",
    "        return [], None\n",
    "\n",
    "    min_mag = min(mags)\n",
    "    return mags, min_mag\n",
    "\n",
    "matched_cols, min_mag = get_mag_bins(faults.columns)\n",
    "min_mag"
   ]
  },
  {
   "cell_type": "code",
   "execution_count": 9,
   "id": "fb0f4e6d",
   "metadata": {},
   "outputs": [
    {
     "data": {
      "text/plain": [
       "Index(['ID', 'Upper Seis Depth', 'Lower Seis Depth', 'Ave Dip', 'Trace Length',\n",
       "       'M5.05', 'M5.15', 'M5.25', 'M5.35', 'M5.45', 'M5.55', 'M5.65', 'M5.75',\n",
       "       'M5.85', 'M5.95', 'M6.05', 'M6.15', 'M6.25', 'M6.35', 'M6.45', 'M6.55',\n",
       "       'M6.65', 'M6.75', 'M6.85', 'M6.95', 'M7.05', 'M7.15', 'M7.25', 'M7.35',\n",
       "       'M7.45', 'M7.55', 'M7.65', 'M7.75', 'M7.85', 'M7.95', 'M8.05', 'M8.15',\n",
       "       'M8.25', 'M8.35', 'M8.45', 'M8.55', 'M8.65', 'M8.75', 'M8.85', 'M8.95',\n",
       "       'M9.05', 'average_dip', 'average_rake', 'net_slip_rate', 'dip_dir',\n",
       "       'downthrown_side_id', 'slip_type', 'geometry'],\n",
       "      dtype='object')"
      ]
     },
     "execution_count": 9,
     "metadata": {},
     "output_type": "execute_result"
    }
   ],
   "source": [
    "faults.columns"
   ]
  },
  {
   "cell_type": "code",
   "execution_count": 11,
   "id": "a24e0b4a",
   "metadata": {},
   "outputs": [
    {
     "name": "stdout",
     "output_type": "stream",
     "text": [
      "[5.05, 5.15, 5.25, 5.35, 5.45, 5.55, 5.65, 5.75, 5.85, 5.95, 6.05, 6.15, 6.25, 6.35, 6.45, 6.55, 6.65, 6.75, 6.85, 6.95, 7.05, 7.15, 7.25, 7.35, 7.45, 7.55, 7.65, 7.75, 7.85, 7.95, 8.05, 8.15, 8.25, 8.35, 8.45, 8.55, 8.65, 8.75, 8.85, 8.95, 9.05]\n"
     ]
    }
   ],
   "source": [
    "faults.columns# Regex pattern to match strings like 'M5.05', 'M7.15', etc.\n",
    "pattern = r'^M(\\d+\\.\\d+)$'\n",
    "\n",
    "magnitudes = [float(re.match(pattern, col).group(1)) for col in faults.columns if re.match(pattern, col)]\n",
    "\n",
    "print(magnitudes)"
   ]
  }
 ],
 "metadata": {
  "kernelspec": {
   "display_name": "Python 3",
   "language": "python",
   "name": "python3"
  },
  "language_info": {
   "codemirror_mode": {
    "name": "ipython",
    "version": 3
   },
   "file_extension": ".py",
   "mimetype": "text/x-python",
   "name": "python",
   "nbconvert_exporter": "python",
   "pygments_lexer": "ipython3",
   "version": "3.9.20"
  }
 },
 "nbformat": 4,
 "nbformat_minor": 5
}
